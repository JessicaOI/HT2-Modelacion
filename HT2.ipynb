{
 "cells": [
  {
   "cell_type": "markdown",
   "metadata": {},
   "source": [
    "Hoja de trabajo 2\n",
    "\n",
    "Realice una simulación de una sucursal de una cadena de supermercados, utilizando la librería Simpy de Python o utilizando el método de eventos discretos.\n",
    "\n",
    "En una sucursal de una cadena de supermercados, llegan los clientes a un sistema con M cajas y con un proceso de Poisson a razón de \n",
    " (>0) clientes por hora en promedio. Al llegar un cliente, se forma en una fila en una caja (selecciona la caja que tenga menos personas o en caso que el menor número de personas haya más de una caja, selecciona cualquiera entre esas cajas).  Cada cajero despacha al cliente en un tiempo que tiene una distribución exponencial con parámetro \n",
    " (>0) clientes por hora.\n",
    "\n",
    "Calcular: \n",
    "\n",
    "1. El tiempo promedio de un cliente en la cola.\n",
    "\n",
    "2. Número de clientes en la cola en promedio.\n",
    "\n",
    "3. Grado o factor de utilización de cada cajero.\n",
    "\n"
   ]
  },
  {
   "cell_type": "markdown",
   "metadata": {},
   "source": [
    "Cajas (Servidores): Representan las cajas de la sucursal y servirán a los clientes.\n",
    "\n",
    "Clientes: Llegan al sistema y se colocan en la caja con menos personas en fila.\n",
    "\n",
    "Proceso de llegada de clientes: Los clientes llegan siguiendo un proceso de Poisson."
   ]
  },
  {
   "cell_type": "code",
   "execution_count": 4,
   "metadata": {},
   "outputs": [
    {
     "ename": "ModuleNotFoundError",
     "evalue": "No module named 'simpy'",
     "output_type": "error",
     "traceback": [
      "\u001b[1;31m---------------------------------------------------------------------------\u001b[0m",
      "\u001b[1;31mModuleNotFoundError\u001b[0m                       Traceback (most recent call last)",
      "\u001b[1;32md:\\Program Files (x86)\\GitHub\\HT2-Modelacion\\HT2.ipynb Celda 3\u001b[0m line \u001b[0;36m1\n\u001b[1;32m----> <a href='vscode-notebook-cell:/d%3A/Program%20Files%20%28x86%29/GitHub/HT2-Modelacion/HT2.ipynb#W2sZmlsZQ%3D%3D?line=0'>1</a>\u001b[0m \u001b[39mimport\u001b[39;00m \u001b[39msimpy\u001b[39;00m\n\u001b[0;32m      <a href='vscode-notebook-cell:/d%3A/Program%20Files%20%28x86%29/GitHub/HT2-Modelacion/HT2.ipynb#W2sZmlsZQ%3D%3D?line=1'>2</a>\u001b[0m \u001b[39mimport\u001b[39;00m \u001b[39mrandom\u001b[39;00m\n\u001b[0;32m      <a href='vscode-notebook-cell:/d%3A/Program%20Files%20%28x86%29/GitHub/HT2-Modelacion/HT2.ipynb#W2sZmlsZQ%3D%3D?line=3'>4</a>\u001b[0m \u001b[39m# Parámetros\u001b[39;00m\n",
      "\u001b[1;31mModuleNotFoundError\u001b[0m: No module named 'simpy'"
     ]
    }
   ],
   "source": [
    "import simpy\n",
    "import random\n",
    "\n",
    "# Parámetros\n",
    "LAMBDA = 10  # Clientes por hora\n",
    "M = 3  # Cantidad de cajas\n",
    "SIMULATION_TIME = 10  # Tiempo de simulación en horas\n",
    "\n",
    "# Variables para almacenar datos\n",
    "total_time_in_queue = 0\n",
    "total_customers = 0\n",
    "queue_lengths = []\n",
    "\n",
    "def customer(env, server, i):\n",
    "    global total_time_in_queue, total_customers\n",
    "    arrival_time = env.now\n",
    "    total_customers += 1\n",
    "    \n",
    "    with server.request() as req:\n",
    "        yield req\n",
    "        queue_length = len(server.queue)\n",
    "        queue_lengths.append(queue_length)\n",
    "        wait_time = env.now - arrival_time\n",
    "        total_time_in_queue += wait_time\n",
    "        service_time = random.expovariate(LAMBDA)\n",
    "        yield env.timeout(service_time)\n",
    "\n",
    "def setup(env, num_servers, rate):\n",
    "    servers = [simpy.Resource(env) for _ in range(num_servers)]\n",
    "    \n",
    "    while True:\n",
    "        yield env.timeout(random.expovariate(rate))\n",
    "        env.process(customer(env, min(servers, key=lambda s: len(s.queue)), rate))\n",
    "\n",
    "env = simpy.Environment()\n",
    "env.process(setup(env, M, LAMBDA))\n",
    "env.run(until=SIMULATION_TIME*60)  # Convertir horas a minutos para simulación\n",
    "\n",
    "# Cálculos\n",
    "average_time_in_queue = total_time_in_queue / total_customers\n",
    "average_queue_length = sum(queue_lengths) / len(queue_lengths)\n",
    "utilization = LAMBDA * average_time_in_queue / M\n",
    "\n",
    "print(f\"Tiempo promedio de un cliente en la cola: {average_time_in_queue:.2f} minutos\")\n",
    "print(f\"Número de clientes en la cola en promedio: {average_queue_length:.2f}\")\n",
    "print(f\"Grado o factor de utilización de cada cajero: {utilization:.2f}\")\n",
    "\n"
   ]
  }
 ],
 "metadata": {
  "kernelspec": {
   "display_name": "Python 3",
   "language": "python",
   "name": "python3"
  },
  "language_info": {
   "codemirror_mode": {
    "name": "ipython",
    "version": 3
   },
   "file_extension": ".py",
   "mimetype": "text/x-python",
   "name": "python",
   "nbconvert_exporter": "python",
   "pygments_lexer": "ipython3",
   "version": "3.11.1"
  }
 },
 "nbformat": 4,
 "nbformat_minor": 2
}
