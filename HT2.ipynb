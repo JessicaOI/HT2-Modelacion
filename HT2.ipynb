{
 "cells": [
  {
   "cell_type": "markdown",
   "metadata": {},
   "source": [
    "Hoja de trabajo 2\n",
    "\n",
    "Realice una simulación de una sucursal de una cadena de supermercados, utilizando la librería Simpy de Python o utilizando el método de eventos discretos.\n",
    "\n",
    "En una sucursal de una cadena de supermercados, llegan los clientes a un sistema con M cajas y con un proceso de Poisson a razón de \n",
    " (>0) clientes por hora en promedio. Al llegar un cliente, se forma en una fila en una caja (selecciona la caja que tenga menos personas o en caso que el menor número de personas haya más de una caja, selecciona cualquiera entre esas cajas).  Cada cajero despacha al cliente en un tiempo que tiene una distribución exponencial con parámetro \n",
    " (>0) clientes por hora.\n",
    "\n",
    "Calcular: \n",
    "\n",
    "1. El tiempo promedio de un cliente en la cola.\n",
    "\n",
    "2. Número de clientes en la cola en promedio.\n",
    "\n",
    "3. Grado o factor de utilización de cada cajero.\n",
    "\n"
   ]
  },
  {
   "cell_type": "markdown",
   "metadata": {},
   "source": [
    "Cajas (Servidores): Representan las cajas de la sucursal y servirán a los clientes.\n",
    "\n",
    "Clientes: Llegan al sistema y se colocan en la caja con menos personas en fila.\n",
    "\n",
    "Proceso de llegada de clientes: Los clientes llegan siguiendo un proceso de Poisson."
   ]
  },
  {
   "cell_type": "code",
   "execution_count": 2,
   "metadata": {},
   "outputs": [
    {
     "name": "stdout",
     "output_type": "stream",
     "text": [
      "Tiempo promedio de un cliente en la cola: 0.05 minutos\n",
      "Número de clientes en la cola en promedio: 0.01\n",
      "Grado o factor de utilización de cada cajero: 0.15\n"
     ]
    }
   ],
   "source": [
    "import simpy\n",
    "import random\n",
    "\n",
    "# Parámetros\n",
    "LAMBDA = 10  # Clientes por hora\n",
    "M = 3  # Cantidad de cajas\n",
    "SIMULATION_TIME = 10  # Tiempo de simulación en horas\n",
    "\n",
    "# Variables para almacenar datos\n",
    "total_time_in_queue = 0\n",
    "total_customers = 0\n",
    "queue_lengths = []\n",
    "\n",
    "def customer(env, server, i):\n",
    "    global total_time_in_queue, total_customers\n",
    "    arrival_time = env.now\n",
    "    total_customers += 1\n",
    "    \n",
    "    with server.request() as req:\n",
    "        yield req\n",
    "        queue_length = len(server.queue)\n",
    "        queue_lengths.append(queue_length)\n",
    "        wait_time = env.now - arrival_time\n",
    "        total_time_in_queue += wait_time\n",
    "        service_time = random.expovariate(LAMBDA)\n",
    "        yield env.timeout(service_time)\n",
    "\n",
    "def setup(env, num_servers, rate):\n",
    "    servers = [simpy.Resource(env) for _ in range(num_servers)]\n",
    "    \n",
    "    while True:\n",
    "        yield env.timeout(random.expovariate(rate))\n",
    "        env.process(customer(env, min(servers, key=lambda s: len(s.queue)), rate))\n",
    "\n",
    "env = simpy.Environment()\n",
    "env.process(setup(env, M, LAMBDA))\n",
    "env.run(until=SIMULATION_TIME*60)  # Convertir horas a minutos para simulación\n",
    "\n",
    "# Cálculos\n",
    "average_time_in_queue = total_time_in_queue / total_customers\n",
    "average_queue_length = sum(queue_lengths) / len(queue_lengths)\n",
    "utilization = LAMBDA * average_time_in_queue / M\n",
    "\n",
    "print(f\"Tiempo promedio de un cliente en la cola: {average_time_in_queue:.2f} minutos\")\n",
    "print(f\"Número de clientes en la cola en promedio: {average_queue_length:.2f}\")\n",
    "print(f\"Grado o factor de utilización de cada cajero: {utilization:.2f}\")\n",
    "\n"
   ]
  },
  {
   "cell_type": "markdown",
   "metadata": {},
   "source": [
    "Proceso de Poisson:\n",
    "El proceso de Poisson es una forma de modelar eventos que ocurren de manera aleatoria a lo largo del tiempo, donde la probabilidad de que ocurra más de un evento en un intervalo de tiempo infinitesimalmente pequeño es prácticamente cero. En esta simulación, la llegada de clientes al supermercado sigue un proceso de Poisson. Esto significa que en cualquier momento, un cliente podría llegar, pero la probabilidad de que dos o más clientes lleguen al mismo instante es extremadamente baja.\n",
    "\n",
    "En términos prácticos, usamos la distribución exponencial (que está relacionada con el proceso de Poisson) para determinar el tiempo entre llegadas sucesivas. Si se dice que hay λ clientes que llegan por hora en promedio (la tasa del proceso de Poisson), el tiempo entre las llegadas sigue una distribución exponencial con un parámetro λ.\n",
    "\n",
    "En el código, esto se refleja en la línea:"
   ]
  },
  {
   "cell_type": "markdown",
   "metadata": {},
   "source": [
    "**yield env.timeout(random.expovariate(rate))**\n",
    "\n",
    "Donde rate es λ y random.expovariate(rate) genera tiempos aleatorios entre llegadas basados en la distribución exponencial."
   ]
  },
  {
   "cell_type": "markdown",
   "metadata": {},
   "source": [
    "Distribución Exponencial:\n",
    "Además de modelar el tiempo entre llegadas, la distribución exponencial se usa para modelar el tiempo de servicio del cajero. Esto se basa en la suposición de que el tiempo que un cajero tarda en atender a un cliente es variable y sigue esta distribución.\n",
    "\n",
    "Esto es modelado en el código con la línea:"
   ]
  },
  {
   "cell_type": "markdown",
   "metadata": {},
   "source": [
    "**service_time = random.expovariate(LAMBDA)**\n",
    "Esto significa que el tiempo que toma servir a un cliente es una variable aleatoria con una distribución exponencial, nuevamente con el parámetro λ."
   ]
  },
  {
   "cell_type": "markdown",
   "metadata": {},
   "source": [
    "Sistema de Cola:\n",
    "El comportamiento de la cola (los clientes esperando ser atendidos) es el núcleo de esta simulación. En esta simulación, cuando un cliente llega, él o ella selecciona la caja con la fila más corta. Si hay múltiples cajas con la misma longitud de fila más corta, el cliente elige aleatoriamente una de esas cajas. Esto es modelado por:"
   ]
  },
  {
   "cell_type": "markdown",
   "metadata": {},
   "source": [
    "**min(servers, key=lambda s: len(s.queue))**\n",
    "\n",
    "Donde servers es la lista de cajas y se selecciona la caja con la fila más corta."
   ]
  }
 ],
 "metadata": {
  "kernelspec": {
   "display_name": "Python 3",
   "language": "python",
   "name": "python3"
  },
  "language_info": {
   "codemirror_mode": {
    "name": "ipython",
    "version": 3
   },
   "file_extension": ".py",
   "mimetype": "text/x-python",
   "name": "python",
   "nbconvert_exporter": "python",
   "pygments_lexer": "ipython3",
   "version": "3.11.1"
  }
 },
 "nbformat": 4,
 "nbformat_minor": 2
}
